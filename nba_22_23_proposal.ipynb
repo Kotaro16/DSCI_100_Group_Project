{
 "cells": [
  {
   "cell_type": "markdown",
   "id": "51b3fdb6-f329-4728-ab43-26781c3f4268",
   "metadata": {},
   "source": [
    "**Title:** Predict (past/retired) player earnings based on their historical performance compared to 2022-2023 season "
   ]
  },
  {
   "cell_type": "markdown",
   "id": "8c5185db-562e-4a57-addb-4c3b128ea226",
   "metadata": {},
   "source": [
    "**Introduction:**\n",
    "The National Basketball Association (NBA) is a North American professional basketball league consisting of 2 conferences. Each conference has 3 divisions, and each division has 5 teams. The NBA is one of the major professional sports leagues in the United States and Canada. It is regarded as the highest level men's professional basketball tournament in the world. We are going to use a dataset from \"basketball-reference.com\", which provides precise statistics for all players. It includes a bunch of variables, including player's name, salary, age, position, team, games played, minutes played, field goals, etc. In this project, we are going to investigate the relationship between the players' salary and the following variables during the 2022-23 season: Position, Age, GP, GS, Total Minutes, PTS, eFG%, TS%, WS, and VORP."
   ]
  },
  {
   "cell_type": "markdown",
   "id": "65024e19-2f60-4686-8217-12d948e26f86",
   "metadata": {},
   "source": [
    "**Preliminary exploratory data analysis:**"
   ]
  },
  {
   "cell_type": "code",
   "execution_count": 2,
   "id": "b6e2064c-7183-48d3-893a-15d2a5440f53",
   "metadata": {
    "tags": []
   },
   "outputs": [
    {
     "name": "stderr",
     "output_type": "stream",
     "text": [
      "── \u001b[1mAttaching packages\u001b[22m ─────────────────────────────────────── tidyverse 1.3.2 ──\n",
      "\u001b[32m✔\u001b[39m \u001b[34mggplot2\u001b[39m 3.4.2     \u001b[32m✔\u001b[39m \u001b[34mpurrr  \u001b[39m 1.0.1\n",
      "\u001b[32m✔\u001b[39m \u001b[34mtibble \u001b[39m 3.2.1     \u001b[32m✔\u001b[39m \u001b[34mdplyr  \u001b[39m 1.1.1\n",
      "\u001b[32m✔\u001b[39m \u001b[34mtidyr  \u001b[39m 1.3.0     \u001b[32m✔\u001b[39m \u001b[34mstringr\u001b[39m 1.5.0\n",
      "\u001b[32m✔\u001b[39m \u001b[34mreadr  \u001b[39m 2.1.3     \u001b[32m✔\u001b[39m \u001b[34mforcats\u001b[39m 0.5.2\n",
      "── \u001b[1mConflicts\u001b[22m ────────────────────────────────────────── tidyverse_conflicts() ──\n",
      "\u001b[31m✖\u001b[39m \u001b[34mdplyr\u001b[39m::\u001b[32mfilter()\u001b[39m masks \u001b[34mstats\u001b[39m::filter()\n",
      "\u001b[31m✖\u001b[39m \u001b[34mdplyr\u001b[39m::\u001b[32mlag()\u001b[39m    masks \u001b[34mstats\u001b[39m::lag()\n",
      "── \u001b[1mAttaching packages\u001b[22m ────────────────────────────────────── tidymodels 1.0.0 ──\n",
      "\n",
      "\u001b[32m✔\u001b[39m \u001b[34mbroom       \u001b[39m 1.0.2     \u001b[32m✔\u001b[39m \u001b[34mrsample     \u001b[39m 1.1.1\n",
      "\u001b[32m✔\u001b[39m \u001b[34mdials       \u001b[39m 1.1.0     \u001b[32m✔\u001b[39m \u001b[34mtune        \u001b[39m 1.0.1\n",
      "\u001b[32m✔\u001b[39m \u001b[34minfer       \u001b[39m 1.0.4     \u001b[32m✔\u001b[39m \u001b[34mworkflows   \u001b[39m 1.1.2\n",
      "\u001b[32m✔\u001b[39m \u001b[34mmodeldata   \u001b[39m 1.0.1     \u001b[32m✔\u001b[39m \u001b[34mworkflowsets\u001b[39m 1.0.0\n",
      "\u001b[32m✔\u001b[39m \u001b[34mparsnip     \u001b[39m 1.0.3     \u001b[32m✔\u001b[39m \u001b[34myardstick   \u001b[39m 1.1.0\n",
      "\u001b[32m✔\u001b[39m \u001b[34mrecipes     \u001b[39m 1.0.4     \n",
      "\n",
      "── \u001b[1mConflicts\u001b[22m ───────────────────────────────────────── tidymodels_conflicts() ──\n",
      "\u001b[31m✖\u001b[39m \u001b[34mscales\u001b[39m::\u001b[32mdiscard()\u001b[39m masks \u001b[34mpurrr\u001b[39m::discard()\n",
      "\u001b[31m✖\u001b[39m \u001b[34mdplyr\u001b[39m::\u001b[32mfilter()\u001b[39m   masks \u001b[34mstats\u001b[39m::filter()\n",
      "\u001b[31m✖\u001b[39m \u001b[34mrecipes\u001b[39m::\u001b[32mfixed()\u001b[39m  masks \u001b[34mstringr\u001b[39m::fixed()\n",
      "\u001b[31m✖\u001b[39m \u001b[34mdplyr\u001b[39m::\u001b[32mlag()\u001b[39m      masks \u001b[34mstats\u001b[39m::lag()\n",
      "\u001b[31m✖\u001b[39m \u001b[34myardstick\u001b[39m::\u001b[32mspec()\u001b[39m masks \u001b[34mreadr\u001b[39m::spec()\n",
      "\u001b[31m✖\u001b[39m \u001b[34mrecipes\u001b[39m::\u001b[32mstep()\u001b[39m   masks \u001b[34mstats\u001b[39m::step()\n",
      "\u001b[34m•\u001b[39m Search for functions across packages at \u001b[32mhttps://www.tidymodels.org/find/\u001b[39m\n",
      "\n",
      "Warning message in file(filename, \"r\", encoding = encoding):\n",
      "“cannot open file 'tests.R': No such file or directory”\n"
     ]
    },
    {
     "ename": "ERROR",
     "evalue": "Error in file(filename, \"r\", encoding = encoding): cannot open the connection\n",
     "output_type": "error",
     "traceback": [
      "Error in file(filename, \"r\", encoding = encoding): cannot open the connection\nTraceback:\n",
      "1. source(\"tests.R\")",
      "2. file(filename, \"r\", encoding = encoding)"
     ]
    }
   ],
   "source": [
    "library(tidyverse)\n",
    "library(repr)\n",
    "library(tidymodels)\n",
    "options(repr.matrix.max.rows = 6)\n",
    "source(\"tests.R\")\n",
    "source('cleanup.R')"
   ]
  },
  {
   "cell_type": "code",
   "execution_count": 3,
   "id": "5276066f-03c8-4f3d-9387-333c9ae1886d",
   "metadata": {
    "tags": []
   },
   "outputs": [
    {
     "name": "stderr",
     "output_type": "stream",
     "text": [
      "\u001b[1m\u001b[22mNew names:\n",
      "\u001b[36m•\u001b[39m `` -> `...1`\n",
      "\u001b[1mRows: \u001b[22m\u001b[34m467\u001b[39m \u001b[1mColumns: \u001b[22m\u001b[34m52\u001b[39m\n",
      "\u001b[36m──\u001b[39m \u001b[1mColumn specification\u001b[22m \u001b[36m────────────────────────────────────────────────────────\u001b[39m\n",
      "\u001b[1mDelimiter:\u001b[22m \",\"\n",
      "\u001b[31mchr\u001b[39m  (3): Player Name, Position, Team\n",
      "\u001b[32mdbl\u001b[39m (49): ...1, Salary, Age, GP, GS, MP, FG, FGA, FG%, 3P, 3PA, 3P%, 2P, 2PA...\n",
      "\n",
      "\u001b[36mℹ\u001b[39m Use `spec()` to retrieve the full column specification for this data.\n",
      "\u001b[36mℹ\u001b[39m Specify the column types or set `show_col_types = FALSE` to quiet this message.\n"
     ]
    },
    {
     "data": {
      "text/html": [
       "<table class=\"dataframe\">\n",
       "<caption>A spec_tbl_df: 467 × 52</caption>\n",
       "<thead>\n",
       "\t<tr><th scope=col>...1</th><th scope=col>Player Name</th><th scope=col>Salary</th><th scope=col>Position</th><th scope=col>Age</th><th scope=col>Team</th><th scope=col>GP</th><th scope=col>GS</th><th scope=col>MP</th><th scope=col>FG</th><th scope=col>⋯</th><th scope=col>TOV%</th><th scope=col>USG%</th><th scope=col>OWS</th><th scope=col>DWS</th><th scope=col>WS</th><th scope=col>WS/48</th><th scope=col>OBPM</th><th scope=col>DBPM</th><th scope=col>BPM</th><th scope=col>VORP</th></tr>\n",
       "\t<tr><th scope=col>&lt;dbl&gt;</th><th scope=col>&lt;chr&gt;</th><th scope=col>&lt;dbl&gt;</th><th scope=col>&lt;chr&gt;</th><th scope=col>&lt;dbl&gt;</th><th scope=col>&lt;chr&gt;</th><th scope=col>&lt;dbl&gt;</th><th scope=col>&lt;dbl&gt;</th><th scope=col>&lt;dbl&gt;</th><th scope=col>&lt;dbl&gt;</th><th scope=col>⋯</th><th scope=col>&lt;dbl&gt;</th><th scope=col>&lt;dbl&gt;</th><th scope=col>&lt;dbl&gt;</th><th scope=col>&lt;dbl&gt;</th><th scope=col>&lt;dbl&gt;</th><th scope=col>&lt;dbl&gt;</th><th scope=col>&lt;dbl&gt;</th><th scope=col>&lt;dbl&gt;</th><th scope=col>&lt;dbl&gt;</th><th scope=col>&lt;dbl&gt;</th></tr>\n",
       "</thead>\n",
       "<tbody>\n",
       "\t<tr><td>0</td><td>Stephen Curry    </td><td>48070014</td><td>PG</td><td>34</td><td>GSW    </td><td>56</td><td>56</td><td>34.7</td><td>10.0</td><td>⋯</td><td>12.5</td><td>31.0</td><td> 5.8</td><td>2.0</td><td>7.8</td><td>0.192</td><td> 7.5</td><td> 0.1</td><td> 7.5</td><td>4.7</td></tr>\n",
       "\t<tr><td>1</td><td>John Wall        </td><td>47345760</td><td>PG</td><td>32</td><td>LAC    </td><td>34</td><td> 3</td><td>22.2</td><td> 4.1</td><td>⋯</td><td>17.1</td><td>27.0</td><td>-0.4</td><td>0.7</td><td>0.3</td><td>0.020</td><td>-0.8</td><td>-0.4</td><td>-1.2</td><td>0.1</td></tr>\n",
       "\t<tr><td>2</td><td>Russell Westbrook</td><td>47080179</td><td>PG</td><td>34</td><td>LAL/LAC</td><td>73</td><td>24</td><td>29.1</td><td> 5.9</td><td>⋯</td><td>18.4</td><td>27.7</td><td>-0.6</td><td>2.6</td><td>1.9</td><td>0.044</td><td> 0.3</td><td>-0.1</td><td> 0.2</td><td>1.2</td></tr>\n",
       "\t<tr><td>⋮</td><td>⋮</td><td>⋮</td><td>⋮</td><td>⋮</td><td>⋮</td><td>⋮</td><td>⋮</td><td>⋮</td><td>⋮</td><td>⋱</td><td>⋮</td><td>⋮</td><td>⋮</td><td>⋮</td><td>⋮</td><td>⋮</td><td>⋮</td><td>⋮</td><td>⋮</td><td>⋮</td></tr>\n",
       "\t<tr><td>464</td><td>Gabe York    </td><td>32171</td><td>SG</td><td>29</td><td>IND</td><td>3</td><td>0</td><td>18.7</td><td>2.7</td><td>⋯</td><td> 0.0</td><td>16.4</td><td>0.1</td><td>0.0</td><td>0.1</td><td>0.091</td><td>-1.7</td><td>-1.8</td><td>-3.5</td><td>0</td></tr>\n",
       "\t<tr><td>465</td><td>RaiQuan Gray </td><td> 5849</td><td>PF</td><td>23</td><td>BRK</td><td>1</td><td>0</td><td>35.0</td><td>6.0</td><td>⋯</td><td>23.7</td><td>21.4</td><td>0.0</td><td>0.0</td><td>0.1</td><td>0.106</td><td>-0.6</td><td>-1.4</td><td>-2.0</td><td>0</td></tr>\n",
       "\t<tr><td>466</td><td>Jacob Gilyard</td><td> 5849</td><td>PG</td><td>24</td><td>MEM</td><td>1</td><td>0</td><td>41.0</td><td>1.0</td><td>⋯</td><td>40.0</td><td> 5.1</td><td>0.0</td><td>0.1</td><td>0.1</td><td>0.079</td><td>-7.8</td><td> 1.7</td><td>-6.1</td><td>0</td></tr>\n",
       "</tbody>\n",
       "</table>\n"
      ],
      "text/latex": [
       "A spec\\_tbl\\_df: 467 × 52\n",
       "\\begin{tabular}{lllllllllllllllllllll}\n",
       " ...1 & Player Name & Salary & Position & Age & Team & GP & GS & MP & FG & ⋯ & TOV\\% & USG\\% & OWS & DWS & WS & WS/48 & OBPM & DBPM & BPM & VORP\\\\\n",
       " <dbl> & <chr> & <dbl> & <chr> & <dbl> & <chr> & <dbl> & <dbl> & <dbl> & <dbl> & ⋯ & <dbl> & <dbl> & <dbl> & <dbl> & <dbl> & <dbl> & <dbl> & <dbl> & <dbl> & <dbl>\\\\\n",
       "\\hline\n",
       "\t 0 & Stephen Curry     & 48070014 & PG & 34 & GSW     & 56 & 56 & 34.7 & 10.0 & ⋯ & 12.5 & 31.0 &  5.8 & 2.0 & 7.8 & 0.192 &  7.5 &  0.1 &  7.5 & 4.7\\\\\n",
       "\t 1 & John Wall         & 47345760 & PG & 32 & LAC     & 34 &  3 & 22.2 &  4.1 & ⋯ & 17.1 & 27.0 & -0.4 & 0.7 & 0.3 & 0.020 & -0.8 & -0.4 & -1.2 & 0.1\\\\\n",
       "\t 2 & Russell Westbrook & 47080179 & PG & 34 & LAL/LAC & 73 & 24 & 29.1 &  5.9 & ⋯ & 18.4 & 27.7 & -0.6 & 2.6 & 1.9 & 0.044 &  0.3 & -0.1 &  0.2 & 1.2\\\\\n",
       "\t ⋮ & ⋮ & ⋮ & ⋮ & ⋮ & ⋮ & ⋮ & ⋮ & ⋮ & ⋮ & ⋱ & ⋮ & ⋮ & ⋮ & ⋮ & ⋮ & ⋮ & ⋮ & ⋮ & ⋮ & ⋮\\\\\n",
       "\t 464 & Gabe York     & 32171 & SG & 29 & IND & 3 & 0 & 18.7 & 2.7 & ⋯ &  0.0 & 16.4 & 0.1 & 0.0 & 0.1 & 0.091 & -1.7 & -1.8 & -3.5 & 0\\\\\n",
       "\t 465 & RaiQuan Gray  &  5849 & PF & 23 & BRK & 1 & 0 & 35.0 & 6.0 & ⋯ & 23.7 & 21.4 & 0.0 & 0.0 & 0.1 & 0.106 & -0.6 & -1.4 & -2.0 & 0\\\\\n",
       "\t 466 & Jacob Gilyard &  5849 & PG & 24 & MEM & 1 & 0 & 41.0 & 1.0 & ⋯ & 40.0 &  5.1 & 0.0 & 0.1 & 0.1 & 0.079 & -7.8 &  1.7 & -6.1 & 0\\\\\n",
       "\\end{tabular}\n"
      ],
      "text/markdown": [
       "\n",
       "A spec_tbl_df: 467 × 52\n",
       "\n",
       "| ...1 &lt;dbl&gt; | Player Name &lt;chr&gt; | Salary &lt;dbl&gt; | Position &lt;chr&gt; | Age &lt;dbl&gt; | Team &lt;chr&gt; | GP &lt;dbl&gt; | GS &lt;dbl&gt; | MP &lt;dbl&gt; | FG &lt;dbl&gt; | ⋯ ⋯ | TOV% &lt;dbl&gt; | USG% &lt;dbl&gt; | OWS &lt;dbl&gt; | DWS &lt;dbl&gt; | WS &lt;dbl&gt; | WS/48 &lt;dbl&gt; | OBPM &lt;dbl&gt; | DBPM &lt;dbl&gt; | BPM &lt;dbl&gt; | VORP &lt;dbl&gt; |\n",
       "|---|---|---|---|---|---|---|---|---|---|---|---|---|---|---|---|---|---|---|---|---|\n",
       "| 0 | Stephen Curry     | 48070014 | PG | 34 | GSW     | 56 | 56 | 34.7 | 10.0 | ⋯ | 12.5 | 31.0 |  5.8 | 2.0 | 7.8 | 0.192 |  7.5 |  0.1 |  7.5 | 4.7 |\n",
       "| 1 | John Wall         | 47345760 | PG | 32 | LAC     | 34 |  3 | 22.2 |  4.1 | ⋯ | 17.1 | 27.0 | -0.4 | 0.7 | 0.3 | 0.020 | -0.8 | -0.4 | -1.2 | 0.1 |\n",
       "| 2 | Russell Westbrook | 47080179 | PG | 34 | LAL/LAC | 73 | 24 | 29.1 |  5.9 | ⋯ | 18.4 | 27.7 | -0.6 | 2.6 | 1.9 | 0.044 |  0.3 | -0.1 |  0.2 | 1.2 |\n",
       "| ⋮ | ⋮ | ⋮ | ⋮ | ⋮ | ⋮ | ⋮ | ⋮ | ⋮ | ⋮ | ⋱ | ⋮ | ⋮ | ⋮ | ⋮ | ⋮ | ⋮ | ⋮ | ⋮ | ⋮ | ⋮ |\n",
       "| 464 | Gabe York     | 32171 | SG | 29 | IND | 3 | 0 | 18.7 | 2.7 | ⋯ |  0.0 | 16.4 | 0.1 | 0.0 | 0.1 | 0.091 | -1.7 | -1.8 | -3.5 | 0 |\n",
       "| 465 | RaiQuan Gray  |  5849 | PF | 23 | BRK | 1 | 0 | 35.0 | 6.0 | ⋯ | 23.7 | 21.4 | 0.0 | 0.0 | 0.1 | 0.106 | -0.6 | -1.4 | -2.0 | 0 |\n",
       "| 466 | Jacob Gilyard |  5849 | PG | 24 | MEM | 1 | 0 | 41.0 | 1.0 | ⋯ | 40.0 |  5.1 | 0.0 | 0.1 | 0.1 | 0.079 | -7.8 |  1.7 | -6.1 | 0 |\n",
       "\n"
      ],
      "text/plain": [
       "    ...1 Player Name       Salary   Position Age Team    GP GS MP   FG   ⋯ TOV%\n",
       "1   0    Stephen Curry     48070014 PG       34  GSW     56 56 34.7 10.0 ⋯ 12.5\n",
       "2   1    John Wall         47345760 PG       32  LAC     34  3 22.2  4.1 ⋯ 17.1\n",
       "3   2    Russell Westbrook 47080179 PG       34  LAL/LAC 73 24 29.1  5.9 ⋯ 18.4\n",
       "⋮   ⋮    ⋮                 ⋮        ⋮        ⋮   ⋮       ⋮  ⋮  ⋮    ⋮    ⋱ ⋮   \n",
       "465 464  Gabe York         32171    SG       29  IND     3  0  18.7 2.7  ⋯  0.0\n",
       "466 465  RaiQuan Gray       5849    PF       23  BRK     1  0  35.0 6.0  ⋯ 23.7\n",
       "467 466  Jacob Gilyard      5849    PG       24  MEM     1  0  41.0 1.0  ⋯ 40.0\n",
       "    USG% OWS  DWS WS  WS/48 OBPM DBPM BPM  VORP\n",
       "1   31.0  5.8 2.0 7.8 0.192  7.5  0.1  7.5 4.7 \n",
       "2   27.0 -0.4 0.7 0.3 0.020 -0.8 -0.4 -1.2 0.1 \n",
       "3   27.7 -0.6 2.6 1.9 0.044  0.3 -0.1  0.2 1.2 \n",
       "⋮   ⋮    ⋮    ⋮   ⋮   ⋮     ⋮    ⋮    ⋮    ⋮   \n",
       "465 16.4 0.1  0.0 0.1 0.091 -1.7 -1.8 -3.5 0   \n",
       "466 21.4 0.0  0.0 0.1 0.106 -0.6 -1.4 -2.0 0   \n",
       "467  5.1 0.0  0.1 0.1 0.079 -7.8  1.7 -6.1 0   "
      ]
     },
     "metadata": {},
     "output_type": "display_data"
    }
   ],
   "source": [
    "nba<-read_csv(\"nba_2022-23.csv\") #reading the dataset\n",
    "nba"
   ]
  },
  {
   "cell_type": "code",
   "execution_count": 4,
   "id": "113d05f9-7301-438e-a2fd-726fdb88c828",
   "metadata": {
    "tags": []
   },
   "outputs": [
    {
     "data": {
      "text/html": [
       "<table class=\"dataframe\">\n",
       "<caption>A tibble: 467 × 12</caption>\n",
       "<thead>\n",
       "\t<tr><th scope=col>Player Name</th><th scope=col>Salary</th><th scope=col>Position</th><th scope=col>Age</th><th scope=col>GP</th><th scope=col>GS</th><th scope=col>Mins</th><th scope=col>PTS</th><th scope=col>eFG%</th><th scope=col>TSP</th><th scope=col>WS</th><th scope=col>VORP</th></tr>\n",
       "\t<tr><th scope=col>&lt;chr&gt;</th><th scope=col>&lt;dbl&gt;</th><th scope=col>&lt;chr&gt;</th><th scope=col>&lt;dbl&gt;</th><th scope=col>&lt;dbl&gt;</th><th scope=col>&lt;dbl&gt;</th><th scope=col>&lt;dbl&gt;</th><th scope=col>&lt;dbl&gt;</th><th scope=col>&lt;dbl&gt;</th><th scope=col>&lt;dbl&gt;</th><th scope=col>&lt;dbl&gt;</th><th scope=col>&lt;dbl&gt;</th></tr>\n",
       "</thead>\n",
       "<tbody>\n",
       "\t<tr><td>Stephen Curry    </td><td>48070014</td><td>PG</td><td>34</td><td>56</td><td>56</td><td>1941</td><td>29.4</td><td>0.614</td><td>0.656</td><td>7.8</td><td>4.7</td></tr>\n",
       "\t<tr><td>John Wall        </td><td>47345760</td><td>PG</td><td>32</td><td>34</td><td> 3</td><td> 755</td><td>11.4</td><td>0.457</td><td>0.498</td><td>0.3</td><td>0.1</td></tr>\n",
       "\t<tr><td>Russell Westbrook</td><td>47080179</td><td>PG</td><td>34</td><td>73</td><td>24</td><td>2126</td><td>15.9</td><td>0.481</td><td>0.513</td><td>1.9</td><td>1.2</td></tr>\n",
       "\t<tr><td>⋮</td><td>⋮</td><td>⋮</td><td>⋮</td><td>⋮</td><td>⋮</td><td>⋮</td><td>⋮</td><td>⋮</td><td>⋮</td><td>⋮</td><td>⋮</td></tr>\n",
       "\t<tr><td>Gabe York    </td><td>32171</td><td>SG</td><td>29</td><td>3</td><td>0</td><td>56</td><td> 8</td><td>0.524</td><td>0.548</td><td>0.1</td><td>0</td></tr>\n",
       "\t<tr><td>RaiQuan Gray </td><td> 5849</td><td>PF</td><td>23</td><td>1</td><td>0</td><td>35</td><td>16</td><td>0.583</td><td>0.621</td><td>0.1</td><td>0</td></tr>\n",
       "\t<tr><td>Jacob Gilyard</td><td> 5849</td><td>PG</td><td>24</td><td>1</td><td>0</td><td>41</td><td> 3</td><td>0.500</td><td>0.500</td><td>0.1</td><td>0</td></tr>\n",
       "</tbody>\n",
       "</table>\n"
      ],
      "text/latex": [
       "A tibble: 467 × 12\n",
       "\\begin{tabular}{llllllllllll}\n",
       " Player Name & Salary & Position & Age & GP & GS & Mins & PTS & eFG\\% & TSP & WS & VORP\\\\\n",
       " <chr> & <dbl> & <chr> & <dbl> & <dbl> & <dbl> & <dbl> & <dbl> & <dbl> & <dbl> & <dbl> & <dbl>\\\\\n",
       "\\hline\n",
       "\t Stephen Curry     & 48070014 & PG & 34 & 56 & 56 & 1941 & 29.4 & 0.614 & 0.656 & 7.8 & 4.7\\\\\n",
       "\t John Wall         & 47345760 & PG & 32 & 34 &  3 &  755 & 11.4 & 0.457 & 0.498 & 0.3 & 0.1\\\\\n",
       "\t Russell Westbrook & 47080179 & PG & 34 & 73 & 24 & 2126 & 15.9 & 0.481 & 0.513 & 1.9 & 1.2\\\\\n",
       "\t ⋮ & ⋮ & ⋮ & ⋮ & ⋮ & ⋮ & ⋮ & ⋮ & ⋮ & ⋮ & ⋮ & ⋮\\\\\n",
       "\t Gabe York     & 32171 & SG & 29 & 3 & 0 & 56 &  8 & 0.524 & 0.548 & 0.1 & 0\\\\\n",
       "\t RaiQuan Gray  &  5849 & PF & 23 & 1 & 0 & 35 & 16 & 0.583 & 0.621 & 0.1 & 0\\\\\n",
       "\t Jacob Gilyard &  5849 & PG & 24 & 1 & 0 & 41 &  3 & 0.500 & 0.500 & 0.1 & 0\\\\\n",
       "\\end{tabular}\n"
      ],
      "text/markdown": [
       "\n",
       "A tibble: 467 × 12\n",
       "\n",
       "| Player Name &lt;chr&gt; | Salary &lt;dbl&gt; | Position &lt;chr&gt; | Age &lt;dbl&gt; | GP &lt;dbl&gt; | GS &lt;dbl&gt; | Mins &lt;dbl&gt; | PTS &lt;dbl&gt; | eFG% &lt;dbl&gt; | TSP &lt;dbl&gt; | WS &lt;dbl&gt; | VORP &lt;dbl&gt; |\n",
       "|---|---|---|---|---|---|---|---|---|---|---|---|\n",
       "| Stephen Curry     | 48070014 | PG | 34 | 56 | 56 | 1941 | 29.4 | 0.614 | 0.656 | 7.8 | 4.7 |\n",
       "| John Wall         | 47345760 | PG | 32 | 34 |  3 |  755 | 11.4 | 0.457 | 0.498 | 0.3 | 0.1 |\n",
       "| Russell Westbrook | 47080179 | PG | 34 | 73 | 24 | 2126 | 15.9 | 0.481 | 0.513 | 1.9 | 1.2 |\n",
       "| ⋮ | ⋮ | ⋮ | ⋮ | ⋮ | ⋮ | ⋮ | ⋮ | ⋮ | ⋮ | ⋮ | ⋮ |\n",
       "| Gabe York     | 32171 | SG | 29 | 3 | 0 | 56 |  8 | 0.524 | 0.548 | 0.1 | 0 |\n",
       "| RaiQuan Gray  |  5849 | PF | 23 | 1 | 0 | 35 | 16 | 0.583 | 0.621 | 0.1 | 0 |\n",
       "| Jacob Gilyard |  5849 | PG | 24 | 1 | 0 | 41 |  3 | 0.500 | 0.500 | 0.1 | 0 |\n",
       "\n"
      ],
      "text/plain": [
       "    Player Name       Salary   Position Age GP GS Mins PTS  eFG%  TSP   WS \n",
       "1   Stephen Curry     48070014 PG       34  56 56 1941 29.4 0.614 0.656 7.8\n",
       "2   John Wall         47345760 PG       32  34  3  755 11.4 0.457 0.498 0.3\n",
       "3   Russell Westbrook 47080179 PG       34  73 24 2126 15.9 0.481 0.513 1.9\n",
       "⋮   ⋮                 ⋮        ⋮        ⋮   ⋮  ⋮  ⋮    ⋮    ⋮     ⋮     ⋮  \n",
       "465 Gabe York         32171    SG       29  3  0  56    8   0.524 0.548 0.1\n",
       "466 RaiQuan Gray       5849    PF       23  1  0  35   16   0.583 0.621 0.1\n",
       "467 Jacob Gilyard      5849    PG       24  1  0  41    3   0.500 0.500 0.1\n",
       "    VORP\n",
       "1   4.7 \n",
       "2   0.1 \n",
       "3   1.2 \n",
       "⋮   ⋮   \n",
       "465 0   \n",
       "466 0   \n",
       "467 0   "
      ]
     },
     "metadata": {},
     "output_type": "display_data"
    }
   ],
   "source": [
    "nba_selected<-select(nba, \"Player Name\", Salary, Position, Age, GP, GS, \"Total Minutes\", PTS, \"eFG%\",\"TS%\",WS,VORP)|>\n",
    "              rename(Mins=\"Total Minutes\")|>\n",
    "              rename(TSP=\"TS%\")\n",
    "nba_selected \n",
    "#Since the data has large number of variables, we selected variabels which might be useful for the analysis \n",
    "#to simplify our data"
   ]
  },
  {
   "cell_type": "code",
   "execution_count": 5,
   "id": "c9bc1222-f83b-4ca6-b640-e4fd9cf5adb6",
   "metadata": {},
   "outputs": [],
   "source": [
    "nba_filtered <- filter(nba_selected, GP>20) \n",
    "#Filtered out players with less than 20 games as we believe it will be biased to include players who played \n",
    "#less than 1/4 of the season. Less GP might be lack of talent or injury. We wanted to elminate the \n",
    "#possibility of injured players affecting our result."
   ]
  },
  {
   "cell_type": "code",
   "execution_count": 6,
   "id": "effbaba1-93ea-4f24-8f28-f552aa07eaed",
   "metadata": {
    "tags": []
   },
   "outputs": [
    {
     "data": {
      "text/html": [
       "<table class=\"dataframe\">\n",
       "<caption>A tibble: 1 × 9</caption>\n",
       "<thead>\n",
       "\t<tr><th scope=col>Number of observations</th><th scope=col>Average Salary</th><th scope=col>Lowest Salary</th><th scope=col>Highest Salary</th><th scope=col>Average Age</th><th scope=col>Average Games Played</th><th scope=col>Average Minutes Played</th><th scope=col>Average True Shooting %</th><th scope=col>Rows with missing data</th></tr>\n",
       "\t<tr><th scope=col>&lt;int&gt;</th><th scope=col>&lt;dbl&gt;</th><th scope=col>&lt;dbl&gt;</th><th scope=col>&lt;dbl&gt;</th><th scope=col>&lt;dbl&gt;</th><th scope=col>&lt;dbl&gt;</th><th scope=col>&lt;dbl&gt;</th><th scope=col>&lt;dbl&gt;</th><th scope=col>&lt;int&gt;</th></tr>\n",
       "</thead>\n",
       "<tbody>\n",
       "\t<tr><td>374</td><td>10021090</td><td>386055</td><td>48070014</td><td>26.00267</td><td>58.18449</td><td>1364.329</td><td>0.5745187</td><td>0</td></tr>\n",
       "</tbody>\n",
       "</table>\n"
      ],
      "text/latex": [
       "A tibble: 1 × 9\n",
       "\\begin{tabular}{lllllllll}\n",
       " Number of observations & Average Salary & Lowest Salary & Highest Salary & Average Age & Average Games Played & Average Minutes Played & Average True Shooting \\% & Rows with missing data\\\\\n",
       " <int> & <dbl> & <dbl> & <dbl> & <dbl> & <dbl> & <dbl> & <dbl> & <int>\\\\\n",
       "\\hline\n",
       "\t 374 & 10021090 & 386055 & 48070014 & 26.00267 & 58.18449 & 1364.329 & 0.5745187 & 0\\\\\n",
       "\\end{tabular}\n"
      ],
      "text/markdown": [
       "\n",
       "A tibble: 1 × 9\n",
       "\n",
       "| Number of observations &lt;int&gt; | Average Salary &lt;dbl&gt; | Lowest Salary &lt;dbl&gt; | Highest Salary &lt;dbl&gt; | Average Age &lt;dbl&gt; | Average Games Played &lt;dbl&gt; | Average Minutes Played &lt;dbl&gt; | Average True Shooting % &lt;dbl&gt; | Rows with missing data &lt;int&gt; |\n",
       "|---|---|---|---|---|---|---|---|---|\n",
       "| 374 | 10021090 | 386055 | 48070014 | 26.00267 | 58.18449 | 1364.329 | 0.5745187 | 0 |\n",
       "\n"
      ],
      "text/plain": [
       "  Number of observations Average Salary Lowest Salary Highest Salary\n",
       "1 374                    10021090       386055        48070014      \n",
       "  Average Age Average Games Played Average Minutes Played\n",
       "1 26.00267    58.18449             1364.329              \n",
       "  Average True Shooting % Rows with missing data\n",
       "1 0.5745187               0                     "
      ]
     },
     "metadata": {},
     "output_type": "display_data"
    }
   ],
   "source": [
    "summarize(nba_filtered,\n",
    "          \"Number of observations\" = nrow(nba_filtered),\n",
    "          \"Average Salary\" = mean(Salary, na.rm=TRUE),\n",
    "          \"Lowest Salary\" = min(Salary),\n",
    "          \"Highest Salary\" = max(Salary),\n",
    "         \"Average Age\" = mean(Age, na.rm=TRUE),\n",
    "         \"Average Games Played\" = mean(GP, na.rm=TRUE),\n",
    "         \"Average Minutes Played\" = mean(Mins, na.rm=TRUE),\n",
    "         \"Average True Shooting %\"=mean(TSP, na.rm=TRUE),\n",
    "          \"Rows with missing data\"=sum(is.na(nba_filtered)))"
   ]
  },
  {
   "cell_type": "code",
   "execution_count": null,
   "id": "ac1d8e94-f7fb-44e7-bd2c-3abd9528ae7b",
   "metadata": {
    "tags": []
   },
   "outputs": [],
   "source": [
    "nba_salary_hist<- ggplot(nba_filtered, aes(x=Salary))+\n",
    "                geom_histogram()+\n",
    "                geom_vline(xintercept = 10021090, linetype = \"dashed\", linewidth = 1)\n",
    "\n",
    "nba_salary_age_plot <- ggplot(nba_filtered, aes(\n",
    "nba_salary_hist\n",
    "\n",
    "\n",
    "#Histogram to visualize the distrbution of salary for nba players in 2022/23 season\n",
    "#Added a vline at where the mean salary lies"
   ]
  },
  {
   "cell_type": "markdown",
   "id": "6751500d-3104-4de5-a36f-4d3fb31bb554",
   "metadata": {},
   "source": [
    "**Methods:**\n",
    "In the 2022-2023 season dataset, the following variables will be selected: \n",
    "\n",
    "    -Age: Often indicates a player's experience and professional maturity \n",
    "\n",
    "    -Games Played: Evidences a player's reliability \n",
    "\n",
    "    -Total Minutes Played: Indicates a player's significance to the team \n",
    "\n",
    "    -True Shooting Percent: Measures a player's ability to score efficiently \n",
    "\n",
    "The selection of these variables rests on the hypothesis that they determine a player's worth and, consequently, their salary. Observations with missing data will be removed. \n",
    "\n",
    "Scatterplots will illustrate the relationship between each variable and the player's salary, aiding in the visualization of potential correlations. If any variable shows weak correlation, it will be replaced. The main modeling technique will be multiple regression, with cross-validation ensuring model robustness. Finally, this model will aid in estimating a retired player's current earnings based on their past performances. \n",
    "\n",
    " "
   ]
  },
  {
   "cell_type": "markdown",
   "id": "9d089175-e255-4636-8c98-b81b6016374f",
   "metadata": {},
   "source": [
    "**Expected Outcomes:**"
   ]
  }
 ],
 "metadata": {
  "kernelspec": {
   "display_name": "R",
   "language": "R",
   "name": "ir"
  },
  "language_info": {
   "codemirror_mode": "r",
   "file_extension": ".r",
   "mimetype": "text/x-r-source",
   "name": "R",
   "pygments_lexer": "r",
   "version": "4.2.2"
  }
 },
 "nbformat": 4,
 "nbformat_minor": 5
}
