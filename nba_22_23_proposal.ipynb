{
 "cells": [
  {
   "cell_type": "markdown",
   "id": "51b3fdb6-f329-4728-ab43-26781c3f4268",
   "metadata": {},
   "source": [
    "**Title:** Predict (past/retired) player earnings based on their historical performance compared to 2022-2023 season "
   ]
  },
  {
   "cell_type": "markdown",
   "id": "8c5185db-562e-4a57-addb-4c3b128ea226",
   "metadata": {},
   "source": [
    "**Introduction:**\n",
    "The National Basketball Association (NBA) is a North American professional basketball league consisting of 2 conferences. Each conference has 3 divisions, and each division has 5 teams. The NBA is one of the major professional sports leagues in the United States and Canada. It is regarded as the highest level men's professional basketball tournament in the world. We are going to use a dataset from \"basketball-reference.com\", which provides precise statistics for all players. In this project, we are going to investigate the relationship between the players' salary and the following variables during the 2022-23 season: \n",
    "* Position = \n",
    "* Age = age pf players\n",
    "* GP = number of games played\n",
    "* GS = number of games started \n",
    "* Total Minutes = total minutes played\n",
    "* PTS = points\n",
    "* eFG% = effective field goal percentage\n",
    "* TS% = true shooting percentage\n",
    "* WS = win shares\n",
    "* VORP = value over replacement player"
   ]
  },
  {
   "cell_type": "markdown",
   "id": "65024e19-2f60-4686-8217-12d948e26f86",
   "metadata": {},
   "source": [
    "**Preliminary exploratory data analysis:**"
   ]
  },
  {
   "cell_type": "code",
   "execution_count": 26,
   "id": "b6e2064c-7183-48d3-893a-15d2a5440f53",
   "metadata": {
    "tags": []
   },
   "outputs": [
    {
     "name": "stderr",
     "output_type": "stream",
     "text": [
      "Updating HTML index of packages in '.Library'\n",
      "\n",
      "Making 'packages.html' ...\n",
      " done\n",
      "\n",
      "Updating HTML index of packages in '.Library'\n",
      "\n",
      "Making 'packages.html' ...\n",
      " done\n",
      "\n",
      "Warning message in file(filename, \"r\", encoding = encoding):\n",
      "“cannot open file 'tests.R': No such file or directory”\n"
     ]
    },
    {
     "ename": "ERROR",
     "evalue": "Error in file(filename, \"r\", encoding = encoding): cannot open the connection\n",
     "output_type": "error",
     "traceback": [
      "Error in file(filename, \"r\", encoding = encoding): cannot open the connection\nTraceback:\n",
      "1. source(\"tests.R\")",
      "2. file(filename, \"r\", encoding = encoding)"
     ]
    }
   ],
   "source": [
    "library(tidyverse)\n",
    "library(repr)\n",
    "library(tidymodels)\n",
    "install.packages(\"kknn\")\n",
    "install.packages(\"gridExtra\")\n",
    "library(kknn)\n",
    "library(gridExtra)\n",
    "options(repr.matrix.max.rows = 6)\n",
    "source(\"tests.R\")\n",
    "source('cleanup.R')"
   ]
  },
  {
   "cell_type": "code",
   "execution_count": 27,
   "id": "5276066f-03c8-4f3d-9387-333c9ae1886d",
   "metadata": {
    "tags": []
   },
   "outputs": [
    {
     "name": "stderr",
     "output_type": "stream",
     "text": [
      "\u001b[1m\u001b[22mNew names:\n",
      "\u001b[36m•\u001b[39m `` -> `...1`\n",
      "\u001b[1mRows: \u001b[22m\u001b[34m467\u001b[39m \u001b[1mColumns: \u001b[22m\u001b[34m52\u001b[39m\n",
      "\u001b[36m──\u001b[39m \u001b[1mColumn specification\u001b[22m \u001b[36m────────────────────────────────────────────────────────\u001b[39m\n",
      "\u001b[1mDelimiter:\u001b[22m \",\"\n",
      "\u001b[31mchr\u001b[39m  (3): Player Name, Position, Team\n",
      "\u001b[32mdbl\u001b[39m (49): ...1, Salary, Age, GP, GS, MP, FG, FGA, FG%, 3P, 3PA, 3P%, 2P, 2PA...\n",
      "\n",
      "\u001b[36mℹ\u001b[39m Use `spec()` to retrieve the full column specification for this data.\n",
      "\u001b[36mℹ\u001b[39m Specify the column types or set `show_col_types = FALSE` to quiet this message.\n"
     ]
    },
    {
     "data": {
      "text/html": [
       "<table class=\"dataframe\">\n",
       "<caption>A spec_tbl_df: 467 × 52</caption>\n",
       "<thead>\n",
       "\t<tr><th scope=col>...1</th><th scope=col>Player Name</th><th scope=col>Salary</th><th scope=col>Position</th><th scope=col>Age</th><th scope=col>Team</th><th scope=col>GP</th><th scope=col>GS</th><th scope=col>MP</th><th scope=col>FG</th><th scope=col>⋯</th><th scope=col>TOV%</th><th scope=col>USG%</th><th scope=col>OWS</th><th scope=col>DWS</th><th scope=col>WS</th><th scope=col>WS/48</th><th scope=col>OBPM</th><th scope=col>DBPM</th><th scope=col>BPM</th><th scope=col>VORP</th></tr>\n",
       "\t<tr><th scope=col>&lt;dbl&gt;</th><th scope=col>&lt;chr&gt;</th><th scope=col>&lt;dbl&gt;</th><th scope=col>&lt;chr&gt;</th><th scope=col>&lt;dbl&gt;</th><th scope=col>&lt;chr&gt;</th><th scope=col>&lt;dbl&gt;</th><th scope=col>&lt;dbl&gt;</th><th scope=col>&lt;dbl&gt;</th><th scope=col>&lt;dbl&gt;</th><th scope=col>⋯</th><th scope=col>&lt;dbl&gt;</th><th scope=col>&lt;dbl&gt;</th><th scope=col>&lt;dbl&gt;</th><th scope=col>&lt;dbl&gt;</th><th scope=col>&lt;dbl&gt;</th><th scope=col>&lt;dbl&gt;</th><th scope=col>&lt;dbl&gt;</th><th scope=col>&lt;dbl&gt;</th><th scope=col>&lt;dbl&gt;</th><th scope=col>&lt;dbl&gt;</th></tr>\n",
       "</thead>\n",
       "<tbody>\n",
       "\t<tr><td>0</td><td>Stephen Curry    </td><td>48070014</td><td>PG</td><td>34</td><td>GSW    </td><td>56</td><td>56</td><td>34.7</td><td>10.0</td><td>⋯</td><td>12.5</td><td>31.0</td><td> 5.8</td><td>2.0</td><td>7.8</td><td>0.192</td><td> 7.5</td><td> 0.1</td><td> 7.5</td><td>4.7</td></tr>\n",
       "\t<tr><td>1</td><td>John Wall        </td><td>47345760</td><td>PG</td><td>32</td><td>LAC    </td><td>34</td><td> 3</td><td>22.2</td><td> 4.1</td><td>⋯</td><td>17.1</td><td>27.0</td><td>-0.4</td><td>0.7</td><td>0.3</td><td>0.020</td><td>-0.8</td><td>-0.4</td><td>-1.2</td><td>0.1</td></tr>\n",
       "\t<tr><td>2</td><td>Russell Westbrook</td><td>47080179</td><td>PG</td><td>34</td><td>LAL/LAC</td><td>73</td><td>24</td><td>29.1</td><td> 5.9</td><td>⋯</td><td>18.4</td><td>27.7</td><td>-0.6</td><td>2.6</td><td>1.9</td><td>0.044</td><td> 0.3</td><td>-0.1</td><td> 0.2</td><td>1.2</td></tr>\n",
       "\t<tr><td>⋮</td><td>⋮</td><td>⋮</td><td>⋮</td><td>⋮</td><td>⋮</td><td>⋮</td><td>⋮</td><td>⋮</td><td>⋮</td><td>⋱</td><td>⋮</td><td>⋮</td><td>⋮</td><td>⋮</td><td>⋮</td><td>⋮</td><td>⋮</td><td>⋮</td><td>⋮</td><td>⋮</td></tr>\n",
       "\t<tr><td>464</td><td>Gabe York    </td><td>32171</td><td>SG</td><td>29</td><td>IND</td><td>3</td><td>0</td><td>18.7</td><td>2.7</td><td>⋯</td><td> 0.0</td><td>16.4</td><td>0.1</td><td>0.0</td><td>0.1</td><td>0.091</td><td>-1.7</td><td>-1.8</td><td>-3.5</td><td>0</td></tr>\n",
       "\t<tr><td>465</td><td>RaiQuan Gray </td><td> 5849</td><td>PF</td><td>23</td><td>BRK</td><td>1</td><td>0</td><td>35.0</td><td>6.0</td><td>⋯</td><td>23.7</td><td>21.4</td><td>0.0</td><td>0.0</td><td>0.1</td><td>0.106</td><td>-0.6</td><td>-1.4</td><td>-2.0</td><td>0</td></tr>\n",
       "\t<tr><td>466</td><td>Jacob Gilyard</td><td> 5849</td><td>PG</td><td>24</td><td>MEM</td><td>1</td><td>0</td><td>41.0</td><td>1.0</td><td>⋯</td><td>40.0</td><td> 5.1</td><td>0.0</td><td>0.1</td><td>0.1</td><td>0.079</td><td>-7.8</td><td> 1.7</td><td>-6.1</td><td>0</td></tr>\n",
       "</tbody>\n",
       "</table>\n"
      ],
      "text/latex": [
       "A spec\\_tbl\\_df: 467 × 52\n",
       "\\begin{tabular}{lllllllllllllllllllll}\n",
       " ...1 & Player Name & Salary & Position & Age & Team & GP & GS & MP & FG & ⋯ & TOV\\% & USG\\% & OWS & DWS & WS & WS/48 & OBPM & DBPM & BPM & VORP\\\\\n",
       " <dbl> & <chr> & <dbl> & <chr> & <dbl> & <chr> & <dbl> & <dbl> & <dbl> & <dbl> & ⋯ & <dbl> & <dbl> & <dbl> & <dbl> & <dbl> & <dbl> & <dbl> & <dbl> & <dbl> & <dbl>\\\\\n",
       "\\hline\n",
       "\t 0 & Stephen Curry     & 48070014 & PG & 34 & GSW     & 56 & 56 & 34.7 & 10.0 & ⋯ & 12.5 & 31.0 &  5.8 & 2.0 & 7.8 & 0.192 &  7.5 &  0.1 &  7.5 & 4.7\\\\\n",
       "\t 1 & John Wall         & 47345760 & PG & 32 & LAC     & 34 &  3 & 22.2 &  4.1 & ⋯ & 17.1 & 27.0 & -0.4 & 0.7 & 0.3 & 0.020 & -0.8 & -0.4 & -1.2 & 0.1\\\\\n",
       "\t 2 & Russell Westbrook & 47080179 & PG & 34 & LAL/LAC & 73 & 24 & 29.1 &  5.9 & ⋯ & 18.4 & 27.7 & -0.6 & 2.6 & 1.9 & 0.044 &  0.3 & -0.1 &  0.2 & 1.2\\\\\n",
       "\t ⋮ & ⋮ & ⋮ & ⋮ & ⋮ & ⋮ & ⋮ & ⋮ & ⋮ & ⋮ & ⋱ & ⋮ & ⋮ & ⋮ & ⋮ & ⋮ & ⋮ & ⋮ & ⋮ & ⋮ & ⋮\\\\\n",
       "\t 464 & Gabe York     & 32171 & SG & 29 & IND & 3 & 0 & 18.7 & 2.7 & ⋯ &  0.0 & 16.4 & 0.1 & 0.0 & 0.1 & 0.091 & -1.7 & -1.8 & -3.5 & 0\\\\\n",
       "\t 465 & RaiQuan Gray  &  5849 & PF & 23 & BRK & 1 & 0 & 35.0 & 6.0 & ⋯ & 23.7 & 21.4 & 0.0 & 0.0 & 0.1 & 0.106 & -0.6 & -1.4 & -2.0 & 0\\\\\n",
       "\t 466 & Jacob Gilyard &  5849 & PG & 24 & MEM & 1 & 0 & 41.0 & 1.0 & ⋯ & 40.0 &  5.1 & 0.0 & 0.1 & 0.1 & 0.079 & -7.8 &  1.7 & -6.1 & 0\\\\\n",
       "\\end{tabular}\n"
      ],
      "text/markdown": [
       "\n",
       "A spec_tbl_df: 467 × 52\n",
       "\n",
       "| ...1 &lt;dbl&gt; | Player Name &lt;chr&gt; | Salary &lt;dbl&gt; | Position &lt;chr&gt; | Age &lt;dbl&gt; | Team &lt;chr&gt; | GP &lt;dbl&gt; | GS &lt;dbl&gt; | MP &lt;dbl&gt; | FG &lt;dbl&gt; | ⋯ ⋯ | TOV% &lt;dbl&gt; | USG% &lt;dbl&gt; | OWS &lt;dbl&gt; | DWS &lt;dbl&gt; | WS &lt;dbl&gt; | WS/48 &lt;dbl&gt; | OBPM &lt;dbl&gt; | DBPM &lt;dbl&gt; | BPM &lt;dbl&gt; | VORP &lt;dbl&gt; |\n",
       "|---|---|---|---|---|---|---|---|---|---|---|---|---|---|---|---|---|---|---|---|---|\n",
       "| 0 | Stephen Curry     | 48070014 | PG | 34 | GSW     | 56 | 56 | 34.7 | 10.0 | ⋯ | 12.5 | 31.0 |  5.8 | 2.0 | 7.8 | 0.192 |  7.5 |  0.1 |  7.5 | 4.7 |\n",
       "| 1 | John Wall         | 47345760 | PG | 32 | LAC     | 34 |  3 | 22.2 |  4.1 | ⋯ | 17.1 | 27.0 | -0.4 | 0.7 | 0.3 | 0.020 | -0.8 | -0.4 | -1.2 | 0.1 |\n",
       "| 2 | Russell Westbrook | 47080179 | PG | 34 | LAL/LAC | 73 | 24 | 29.1 |  5.9 | ⋯ | 18.4 | 27.7 | -0.6 | 2.6 | 1.9 | 0.044 |  0.3 | -0.1 |  0.2 | 1.2 |\n",
       "| ⋮ | ⋮ | ⋮ | ⋮ | ⋮ | ⋮ | ⋮ | ⋮ | ⋮ | ⋮ | ⋱ | ⋮ | ⋮ | ⋮ | ⋮ | ⋮ | ⋮ | ⋮ | ⋮ | ⋮ | ⋮ |\n",
       "| 464 | Gabe York     | 32171 | SG | 29 | IND | 3 | 0 | 18.7 | 2.7 | ⋯ |  0.0 | 16.4 | 0.1 | 0.0 | 0.1 | 0.091 | -1.7 | -1.8 | -3.5 | 0 |\n",
       "| 465 | RaiQuan Gray  |  5849 | PF | 23 | BRK | 1 | 0 | 35.0 | 6.0 | ⋯ | 23.7 | 21.4 | 0.0 | 0.0 | 0.1 | 0.106 | -0.6 | -1.4 | -2.0 | 0 |\n",
       "| 466 | Jacob Gilyard |  5849 | PG | 24 | MEM | 1 | 0 | 41.0 | 1.0 | ⋯ | 40.0 |  5.1 | 0.0 | 0.1 | 0.1 | 0.079 | -7.8 |  1.7 | -6.1 | 0 |\n",
       "\n"
      ],
      "text/plain": [
       "    ...1 Player Name       Salary   Position Age Team    GP GS MP   FG   ⋯ TOV%\n",
       "1   0    Stephen Curry     48070014 PG       34  GSW     56 56 34.7 10.0 ⋯ 12.5\n",
       "2   1    John Wall         47345760 PG       32  LAC     34  3 22.2  4.1 ⋯ 17.1\n",
       "3   2    Russell Westbrook 47080179 PG       34  LAL/LAC 73 24 29.1  5.9 ⋯ 18.4\n",
       "⋮   ⋮    ⋮                 ⋮        ⋮        ⋮   ⋮       ⋮  ⋮  ⋮    ⋮    ⋱ ⋮   \n",
       "465 464  Gabe York         32171    SG       29  IND     3  0  18.7 2.7  ⋯  0.0\n",
       "466 465  RaiQuan Gray       5849    PF       23  BRK     1  0  35.0 6.0  ⋯ 23.7\n",
       "467 466  Jacob Gilyard      5849    PG       24  MEM     1  0  41.0 1.0  ⋯ 40.0\n",
       "    USG% OWS  DWS WS  WS/48 OBPM DBPM BPM  VORP\n",
       "1   31.0  5.8 2.0 7.8 0.192  7.5  0.1  7.5 4.7 \n",
       "2   27.0 -0.4 0.7 0.3 0.020 -0.8 -0.4 -1.2 0.1 \n",
       "3   27.7 -0.6 2.6 1.9 0.044  0.3 -0.1  0.2 1.2 \n",
       "⋮   ⋮    ⋮    ⋮   ⋮   ⋮     ⋮    ⋮    ⋮    ⋮   \n",
       "465 16.4 0.1  0.0 0.1 0.091 -1.7 -1.8 -3.5 0   \n",
       "466 21.4 0.0  0.0 0.1 0.106 -0.6 -1.4 -2.0 0   \n",
       "467  5.1 0.0  0.1 0.1 0.079 -7.8  1.7 -6.1 0   "
      ]
     },
     "metadata": {},
     "output_type": "display_data"
    }
   ],
   "source": [
    "nba <- read_csv(\"nba_2022-23.csv\") #read the dataset using a relative path\n",
    "nba"
   ]
  },
  {
   "cell_type": "code",
   "execution_count": 28,
   "id": "113d05f9-7301-438e-a2fd-726fdb88c828",
   "metadata": {
    "tags": []
   },
   "outputs": [
    {
     "data": {
      "text/html": [
       "<table class=\"dataframe\">\n",
       "<caption>A tibble: 467 × 12</caption>\n",
       "<thead>\n",
       "\t<tr><th scope=col>Player Name</th><th scope=col>Salary</th><th scope=col>Position</th><th scope=col>Age</th><th scope=col>GP</th><th scope=col>GS</th><th scope=col>total_minutes</th><th scope=col>PTS</th><th scope=col>eFGP</th><th scope=col>TSP</th><th scope=col>WS</th><th scope=col>VORP</th></tr>\n",
       "\t<tr><th scope=col>&lt;chr&gt;</th><th scope=col>&lt;dbl&gt;</th><th scope=col>&lt;chr&gt;</th><th scope=col>&lt;dbl&gt;</th><th scope=col>&lt;dbl&gt;</th><th scope=col>&lt;dbl&gt;</th><th scope=col>&lt;dbl&gt;</th><th scope=col>&lt;dbl&gt;</th><th scope=col>&lt;dbl&gt;</th><th scope=col>&lt;dbl&gt;</th><th scope=col>&lt;dbl&gt;</th><th scope=col>&lt;dbl&gt;</th></tr>\n",
       "</thead>\n",
       "<tbody>\n",
       "\t<tr><td>Stephen Curry    </td><td>48070014</td><td>PG</td><td>34</td><td>56</td><td>56</td><td>1941</td><td>29.4</td><td>0.614</td><td>0.656</td><td>7.8</td><td>4.7</td></tr>\n",
       "\t<tr><td>John Wall        </td><td>47345760</td><td>PG</td><td>32</td><td>34</td><td> 3</td><td> 755</td><td>11.4</td><td>0.457</td><td>0.498</td><td>0.3</td><td>0.1</td></tr>\n",
       "\t<tr><td>Russell Westbrook</td><td>47080179</td><td>PG</td><td>34</td><td>73</td><td>24</td><td>2126</td><td>15.9</td><td>0.481</td><td>0.513</td><td>1.9</td><td>1.2</td></tr>\n",
       "\t<tr><td>⋮</td><td>⋮</td><td>⋮</td><td>⋮</td><td>⋮</td><td>⋮</td><td>⋮</td><td>⋮</td><td>⋮</td><td>⋮</td><td>⋮</td><td>⋮</td></tr>\n",
       "\t<tr><td>Gabe York    </td><td>32171</td><td>SG</td><td>29</td><td>3</td><td>0</td><td>56</td><td> 8</td><td>0.524</td><td>0.548</td><td>0.1</td><td>0</td></tr>\n",
       "\t<tr><td>RaiQuan Gray </td><td> 5849</td><td>PF</td><td>23</td><td>1</td><td>0</td><td>35</td><td>16</td><td>0.583</td><td>0.621</td><td>0.1</td><td>0</td></tr>\n",
       "\t<tr><td>Jacob Gilyard</td><td> 5849</td><td>PG</td><td>24</td><td>1</td><td>0</td><td>41</td><td> 3</td><td>0.500</td><td>0.500</td><td>0.1</td><td>0</td></tr>\n",
       "</tbody>\n",
       "</table>\n"
      ],
      "text/latex": [
       "A tibble: 467 × 12\n",
       "\\begin{tabular}{llllllllllll}\n",
       " Player Name & Salary & Position & Age & GP & GS & total\\_minutes & PTS & eFGP & TSP & WS & VORP\\\\\n",
       " <chr> & <dbl> & <chr> & <dbl> & <dbl> & <dbl> & <dbl> & <dbl> & <dbl> & <dbl> & <dbl> & <dbl>\\\\\n",
       "\\hline\n",
       "\t Stephen Curry     & 48070014 & PG & 34 & 56 & 56 & 1941 & 29.4 & 0.614 & 0.656 & 7.8 & 4.7\\\\\n",
       "\t John Wall         & 47345760 & PG & 32 & 34 &  3 &  755 & 11.4 & 0.457 & 0.498 & 0.3 & 0.1\\\\\n",
       "\t Russell Westbrook & 47080179 & PG & 34 & 73 & 24 & 2126 & 15.9 & 0.481 & 0.513 & 1.9 & 1.2\\\\\n",
       "\t ⋮ & ⋮ & ⋮ & ⋮ & ⋮ & ⋮ & ⋮ & ⋮ & ⋮ & ⋮ & ⋮ & ⋮\\\\\n",
       "\t Gabe York     & 32171 & SG & 29 & 3 & 0 & 56 &  8 & 0.524 & 0.548 & 0.1 & 0\\\\\n",
       "\t RaiQuan Gray  &  5849 & PF & 23 & 1 & 0 & 35 & 16 & 0.583 & 0.621 & 0.1 & 0\\\\\n",
       "\t Jacob Gilyard &  5849 & PG & 24 & 1 & 0 & 41 &  3 & 0.500 & 0.500 & 0.1 & 0\\\\\n",
       "\\end{tabular}\n"
      ],
      "text/markdown": [
       "\n",
       "A tibble: 467 × 12\n",
       "\n",
       "| Player Name &lt;chr&gt; | Salary &lt;dbl&gt; | Position &lt;chr&gt; | Age &lt;dbl&gt; | GP &lt;dbl&gt; | GS &lt;dbl&gt; | total_minutes &lt;dbl&gt; | PTS &lt;dbl&gt; | eFGP &lt;dbl&gt; | TSP &lt;dbl&gt; | WS &lt;dbl&gt; | VORP &lt;dbl&gt; |\n",
       "|---|---|---|---|---|---|---|---|---|---|---|---|\n",
       "| Stephen Curry     | 48070014 | PG | 34 | 56 | 56 | 1941 | 29.4 | 0.614 | 0.656 | 7.8 | 4.7 |\n",
       "| John Wall         | 47345760 | PG | 32 | 34 |  3 |  755 | 11.4 | 0.457 | 0.498 | 0.3 | 0.1 |\n",
       "| Russell Westbrook | 47080179 | PG | 34 | 73 | 24 | 2126 | 15.9 | 0.481 | 0.513 | 1.9 | 1.2 |\n",
       "| ⋮ | ⋮ | ⋮ | ⋮ | ⋮ | ⋮ | ⋮ | ⋮ | ⋮ | ⋮ | ⋮ | ⋮ |\n",
       "| Gabe York     | 32171 | SG | 29 | 3 | 0 | 56 |  8 | 0.524 | 0.548 | 0.1 | 0 |\n",
       "| RaiQuan Gray  |  5849 | PF | 23 | 1 | 0 | 35 | 16 | 0.583 | 0.621 | 0.1 | 0 |\n",
       "| Jacob Gilyard |  5849 | PG | 24 | 1 | 0 | 41 |  3 | 0.500 | 0.500 | 0.1 | 0 |\n",
       "\n"
      ],
      "text/plain": [
       "    Player Name       Salary   Position Age GP GS total_minutes PTS  eFGP \n",
       "1   Stephen Curry     48070014 PG       34  56 56 1941          29.4 0.614\n",
       "2   John Wall         47345760 PG       32  34  3  755          11.4 0.457\n",
       "3   Russell Westbrook 47080179 PG       34  73 24 2126          15.9 0.481\n",
       "⋮   ⋮                 ⋮        ⋮        ⋮   ⋮  ⋮  ⋮             ⋮    ⋮    \n",
       "465 Gabe York         32171    SG       29  3  0  56             8   0.524\n",
       "466 RaiQuan Gray       5849    PF       23  1  0  35            16   0.583\n",
       "467 Jacob Gilyard      5849    PG       24  1  0  41             3   0.500\n",
       "    TSP   WS  VORP\n",
       "1   0.656 7.8 4.7 \n",
       "2   0.498 0.3 0.1 \n",
       "3   0.513 1.9 1.2 \n",
       "⋮   ⋮     ⋮   ⋮   \n",
       "465 0.548 0.1 0   \n",
       "466 0.621 0.1 0   \n",
       "467 0.500 0.1 0   "
      ]
     },
     "metadata": {},
     "output_type": "display_data"
    }
   ],
   "source": [
    "#Since the data has large number of variables, we selected variabels which might be useful for the analysis \n",
    "#to simplify our data.\n",
    "nba_selected <- nba |>\n",
    "select(\"Player Name\", Salary, Position, Age, GP, GS, \"Total Minutes\", PTS, \"eFG%\", \"TS%\", WS, VORP) |>\n",
    "rename(total_minutes = \"Total Minutes\") |>\n",
    "rename(TSP = \"TS%\") |>\n",
    "rename(eFGP = \"eFG%\")\n",
    "nba_selected"
   ]
  },
  {
   "cell_type": "markdown",
   "id": "cbd7e09a-1056-49bf-a7b9-f54c05e3a7fe",
   "metadata": {},
   "source": [
    "We filtered out players with less than 20 number of games played as we believe it will be biased to include players who played less than 1/4 of the season. Less number of games played might be lack of talent or injury. Similarly, we filtered out players with less than 500 minutes of playing time due to similar reasoning. \n",
    "We wanted to elminate the possibility of injured players affecting our result. We also eliminate age under 20 since we believe younger players get payed little whether if they are good."
   ]
  },
  {
   "cell_type": "code",
   "execution_count": 29,
   "id": "c9bc1222-f83b-4ca6-b640-e4fd9cf5adb6",
   "metadata": {
    "tags": []
   },
   "outputs": [
    {
     "data": {
      "text/html": [
       "<table class=\"dataframe\">\n",
       "<caption>A tibble: 299 × 12</caption>\n",
       "<thead>\n",
       "\t<tr><th scope=col>Player Name</th><th scope=col>Salary</th><th scope=col>Position</th><th scope=col>Age</th><th scope=col>GP</th><th scope=col>GS</th><th scope=col>total_minutes</th><th scope=col>PTS</th><th scope=col>eFGP</th><th scope=col>TSP</th><th scope=col>WS</th><th scope=col>VORP</th></tr>\n",
       "\t<tr><th scope=col>&lt;chr&gt;</th><th scope=col>&lt;dbl&gt;</th><th scope=col>&lt;chr&gt;</th><th scope=col>&lt;dbl&gt;</th><th scope=col>&lt;dbl&gt;</th><th scope=col>&lt;dbl&gt;</th><th scope=col>&lt;dbl&gt;</th><th scope=col>&lt;dbl&gt;</th><th scope=col>&lt;dbl&gt;</th><th scope=col>&lt;dbl&gt;</th><th scope=col>&lt;dbl&gt;</th><th scope=col>&lt;dbl&gt;</th></tr>\n",
       "</thead>\n",
       "<tbody>\n",
       "\t<tr><td>Stephen Curry    </td><td>48070014</td><td>PG</td><td>34</td><td>56</td><td>56</td><td>1941</td><td>29.4</td><td>0.614</td><td>0.656</td><td>7.8</td><td>4.7</td></tr>\n",
       "\t<tr><td>John Wall        </td><td>47345760</td><td>PG</td><td>32</td><td>34</td><td> 3</td><td> 755</td><td>11.4</td><td>0.457</td><td>0.498</td><td>0.3</td><td>0.1</td></tr>\n",
       "\t<tr><td>Russell Westbrook</td><td>47080179</td><td>PG</td><td>34</td><td>73</td><td>24</td><td>2126</td><td>15.9</td><td>0.481</td><td>0.513</td><td>1.9</td><td>1.2</td></tr>\n",
       "\t<tr><td>⋮</td><td>⋮</td><td>⋮</td><td>⋮</td><td>⋮</td><td>⋮</td><td>⋮</td><td>⋮</td><td>⋮</td><td>⋮</td><td>⋮</td><td>⋮</td></tr>\n",
       "\t<tr><td>Eugene Omoruyi</td><td>1013119</td><td>SF</td><td>25</td><td>40</td><td>6</td><td> 645</td><td> 7.0</td><td>0.498</td><td>0.533</td><td>0.6</td><td>-0.4</td></tr>\n",
       "\t<tr><td>Kris Dunn     </td><td>1000001</td><td>PG</td><td>28</td><td>22</td><td>3</td><td> 568</td><td>13.2</td><td>0.576</td><td>0.606</td><td>1.9</td><td> 0.6</td></tr>\n",
       "\t<tr><td>Anthony Lamb  </td><td> 694878</td><td>SF</td><td>25</td><td>62</td><td>4</td><td>1195</td><td> 6.7</td><td>0.588</td><td>0.610</td><td>2.4</td><td> 0.3</td></tr>\n",
       "</tbody>\n",
       "</table>\n"
      ],
      "text/latex": [
       "A tibble: 299 × 12\n",
       "\\begin{tabular}{llllllllllll}\n",
       " Player Name & Salary & Position & Age & GP & GS & total\\_minutes & PTS & eFGP & TSP & WS & VORP\\\\\n",
       " <chr> & <dbl> & <chr> & <dbl> & <dbl> & <dbl> & <dbl> & <dbl> & <dbl> & <dbl> & <dbl> & <dbl>\\\\\n",
       "\\hline\n",
       "\t Stephen Curry     & 48070014 & PG & 34 & 56 & 56 & 1941 & 29.4 & 0.614 & 0.656 & 7.8 & 4.7\\\\\n",
       "\t John Wall         & 47345760 & PG & 32 & 34 &  3 &  755 & 11.4 & 0.457 & 0.498 & 0.3 & 0.1\\\\\n",
       "\t Russell Westbrook & 47080179 & PG & 34 & 73 & 24 & 2126 & 15.9 & 0.481 & 0.513 & 1.9 & 1.2\\\\\n",
       "\t ⋮ & ⋮ & ⋮ & ⋮ & ⋮ & ⋮ & ⋮ & ⋮ & ⋮ & ⋮ & ⋮ & ⋮\\\\\n",
       "\t Eugene Omoruyi & 1013119 & SF & 25 & 40 & 6 &  645 &  7.0 & 0.498 & 0.533 & 0.6 & -0.4\\\\\n",
       "\t Kris Dunn      & 1000001 & PG & 28 & 22 & 3 &  568 & 13.2 & 0.576 & 0.606 & 1.9 &  0.6\\\\\n",
       "\t Anthony Lamb   &  694878 & SF & 25 & 62 & 4 & 1195 &  6.7 & 0.588 & 0.610 & 2.4 &  0.3\\\\\n",
       "\\end{tabular}\n"
      ],
      "text/markdown": [
       "\n",
       "A tibble: 299 × 12\n",
       "\n",
       "| Player Name &lt;chr&gt; | Salary &lt;dbl&gt; | Position &lt;chr&gt; | Age &lt;dbl&gt; | GP &lt;dbl&gt; | GS &lt;dbl&gt; | total_minutes &lt;dbl&gt; | PTS &lt;dbl&gt; | eFGP &lt;dbl&gt; | TSP &lt;dbl&gt; | WS &lt;dbl&gt; | VORP &lt;dbl&gt; |\n",
       "|---|---|---|---|---|---|---|---|---|---|---|---|\n",
       "| Stephen Curry     | 48070014 | PG | 34 | 56 | 56 | 1941 | 29.4 | 0.614 | 0.656 | 7.8 | 4.7 |\n",
       "| John Wall         | 47345760 | PG | 32 | 34 |  3 |  755 | 11.4 | 0.457 | 0.498 | 0.3 | 0.1 |\n",
       "| Russell Westbrook | 47080179 | PG | 34 | 73 | 24 | 2126 | 15.9 | 0.481 | 0.513 | 1.9 | 1.2 |\n",
       "| ⋮ | ⋮ | ⋮ | ⋮ | ⋮ | ⋮ | ⋮ | ⋮ | ⋮ | ⋮ | ⋮ | ⋮ |\n",
       "| Eugene Omoruyi | 1013119 | SF | 25 | 40 | 6 |  645 |  7.0 | 0.498 | 0.533 | 0.6 | -0.4 |\n",
       "| Kris Dunn      | 1000001 | PG | 28 | 22 | 3 |  568 | 13.2 | 0.576 | 0.606 | 1.9 |  0.6 |\n",
       "| Anthony Lamb   |  694878 | SF | 25 | 62 | 4 | 1195 |  6.7 | 0.588 | 0.610 | 2.4 |  0.3 |\n",
       "\n"
      ],
      "text/plain": [
       "    Player Name       Salary   Position Age GP GS total_minutes PTS  eFGP \n",
       "1   Stephen Curry     48070014 PG       34  56 56 1941          29.4 0.614\n",
       "2   John Wall         47345760 PG       32  34  3  755          11.4 0.457\n",
       "3   Russell Westbrook 47080179 PG       34  73 24 2126          15.9 0.481\n",
       "⋮   ⋮                 ⋮        ⋮        ⋮   ⋮  ⋮  ⋮             ⋮    ⋮    \n",
       "297 Eugene Omoruyi    1013119  SF       25  40 6   645           7.0 0.498\n",
       "298 Kris Dunn         1000001  PG       28  22 3   568          13.2 0.576\n",
       "299 Anthony Lamb       694878  SF       25  62 4  1195           6.7 0.588\n",
       "    TSP   WS  VORP\n",
       "1   0.656 7.8 4.7 \n",
       "2   0.498 0.3 0.1 \n",
       "3   0.513 1.9 1.2 \n",
       "⋮   ⋮     ⋮   ⋮   \n",
       "297 0.533 0.6 -0.4\n",
       "298 0.606 1.9  0.6\n",
       "299 0.610 2.4  0.3"
      ]
     },
     "metadata": {},
     "output_type": "display_data"
    }
   ],
   "source": [
    "nba_filtered <- nba_selected |>\n",
    "filter(GP > 20, \n",
    "       Age > 20, \n",
    "       total_minutes > 500) # 82 games in a season * 1/4 * 48 mins a game * 1/2 = 492\n",
    "nba_filtered"
   ]
  },
  {
   "cell_type": "code",
   "execution_count": 45,
   "id": "687a0ba2-b6e0-46f5-9ff9-edc84aa0cb88",
   "metadata": {
    "tags": []
   },
   "outputs": [
    {
     "data": {
      "text/html": [
       "<table class=\"dataframe\">\n",
       "<caption>A tibble: 299 × 5</caption>\n",
       "<thead>\n",
       "\t<tr><th scope=col>Salary</th><th scope=col>Age</th><th scope=col>GP</th><th scope=col>TSP</th><th scope=col>total_minutes</th></tr>\n",
       "\t<tr><th scope=col>&lt;dbl&gt;</th><th scope=col>&lt;dbl&gt;</th><th scope=col>&lt;dbl&gt;</th><th scope=col>&lt;dbl&gt;</th><th scope=col>&lt;dbl&gt;</th></tr>\n",
       "</thead>\n",
       "<tbody>\n",
       "\t<tr><td>48070014</td><td>34</td><td>56</td><td>0.656</td><td>1941</td></tr>\n",
       "\t<tr><td>47345760</td><td>32</td><td>34</td><td>0.498</td><td> 755</td></tr>\n",
       "\t<tr><td>47080179</td><td>34</td><td>73</td><td>0.513</td><td>2126</td></tr>\n",
       "\t<tr><td>⋮</td><td>⋮</td><td>⋮</td><td>⋮</td><td>⋮</td></tr>\n",
       "\t<tr><td>1013119</td><td>25</td><td>40</td><td>0.533</td><td> 645</td></tr>\n",
       "\t<tr><td>1000001</td><td>28</td><td>22</td><td>0.606</td><td> 568</td></tr>\n",
       "\t<tr><td> 694878</td><td>25</td><td>62</td><td>0.610</td><td>1195</td></tr>\n",
       "</tbody>\n",
       "</table>\n"
      ],
      "text/latex": [
       "A tibble: 299 × 5\n",
       "\\begin{tabular}{lllll}\n",
       " Salary & Age & GP & TSP & total\\_minutes\\\\\n",
       " <dbl> & <dbl> & <dbl> & <dbl> & <dbl>\\\\\n",
       "\\hline\n",
       "\t 48070014 & 34 & 56 & 0.656 & 1941\\\\\n",
       "\t 47345760 & 32 & 34 & 0.498 &  755\\\\\n",
       "\t 47080179 & 34 & 73 & 0.513 & 2126\\\\\n",
       "\t ⋮ & ⋮ & ⋮ & ⋮ & ⋮\\\\\n",
       "\t 1013119 & 25 & 40 & 0.533 &  645\\\\\n",
       "\t 1000001 & 28 & 22 & 0.606 &  568\\\\\n",
       "\t  694878 & 25 & 62 & 0.610 & 1195\\\\\n",
       "\\end{tabular}\n"
      ],
      "text/markdown": [
       "\n",
       "A tibble: 299 × 5\n",
       "\n",
       "| Salary &lt;dbl&gt; | Age &lt;dbl&gt; | GP &lt;dbl&gt; | TSP &lt;dbl&gt; | total_minutes &lt;dbl&gt; |\n",
       "|---|---|---|---|---|\n",
       "| 48070014 | 34 | 56 | 0.656 | 1941 |\n",
       "| 47345760 | 32 | 34 | 0.498 |  755 |\n",
       "| 47080179 | 34 | 73 | 0.513 | 2126 |\n",
       "| ⋮ | ⋮ | ⋮ | ⋮ | ⋮ |\n",
       "| 1013119 | 25 | 40 | 0.533 |  645 |\n",
       "| 1000001 | 28 | 22 | 0.606 |  568 |\n",
       "|  694878 | 25 | 62 | 0.610 | 1195 |\n",
       "\n"
      ],
      "text/plain": [
       "    Salary   Age GP TSP   total_minutes\n",
       "1   48070014 34  56 0.656 1941         \n",
       "2   47345760 32  34 0.498  755         \n",
       "3   47080179 34  73 0.513 2126         \n",
       "⋮   ⋮        ⋮   ⋮  ⋮     ⋮            \n",
       "297 1013119  25  40 0.533  645         \n",
       "298 1000001  28  22 0.606  568         \n",
       "299  694878  25  62 0.610 1195         "
      ]
     },
     "metadata": {},
     "output_type": "display_data"
    }
   ],
   "source": [
    "nba_filtered2 <- nba_filtered |>\n",
    "select(Salary, Age, GP, TSP, total_minutes) #select variables we're going to look at\n",
    "nba_filtered2"
   ]
  },
  {
   "cell_type": "code",
   "execution_count": 46,
   "id": "19eacaaf-7b17-47a2-a500-19c78d7f424b",
   "metadata": {
    "tags": []
   },
   "outputs": [],
   "source": [
    "set.seed(1)\n",
    "nba_split <- initial_split(nba_filtered2, prop = 0.6, strata = Salary)\n",
    "nba_training <- training(nba_split) #training data\n",
    "nba_testing <- testing(nba_split) #testing data"
   ]
  },
  {
   "cell_type": "code",
   "execution_count": 47,
   "id": "f655e2df-578c-4ef8-a195-5f95a2910810",
   "metadata": {
    "tags": []
   },
   "outputs": [],
   "source": [
    "nba_recipe <- recipe(Salary ~., data = nba_training) #create recipe to preprocess data\n",
    "\n",
    "nba_spec <- linear_reg()|> #model specification\n",
    "set_engine(\"lm\") |>\n",
    "set_mode(\"regression\")"
   ]
  },
  {
   "cell_type": "code",
   "execution_count": 49,
   "id": "1a2b2746-913f-4794-be6f-2823ed4005d7",
   "metadata": {
    "tags": []
   },
   "outputs": [
    {
     "data": {
      "text/plain": [
       "══ Workflow [trained] ══════════════════════════════════════════════════════════\n",
       "\u001b[3mPreprocessor:\u001b[23m Recipe\n",
       "\u001b[3mModel:\u001b[23m linear_reg()\n",
       "\n",
       "── Preprocessor ────────────────────────────────────────────────────────────────\n",
       "0 Recipe Steps\n",
       "\n",
       "── Model ───────────────────────────────────────────────────────────────────────\n",
       "\n",
       "Call:\n",
       "stats::lm(formula = ..y ~ ., data = data)\n",
       "\n",
       "Coefficients:\n",
       "  (Intercept)            Age             GP            TSP  total_minutes  \n",
       "    -17031871        1014234        -518273       15675056          16412  \n"
      ]
     },
     "metadata": {},
     "output_type": "display_data"
    }
   ],
   "source": [
    "nba_fit <- workflow() |> #build the workflow and fit the model\n",
    "add_recipe(nba_recipe) |>\n",
    "add_model(nba_spec) |>\n",
    "fit(data = nba_training)\n",
    "\n",
    "nba_fit"
   ]
  },
  {
   "cell_type": "code",
   "execution_count": 52,
   "id": "22ed6a60-d65e-49b6-9de8-a7dde8c611a6",
   "metadata": {
    "tags": []
   },
   "outputs": [
    {
     "data": {
      "text/html": [
       "<table class=\"dataframe\">\n",
       "<caption>A tibble: 3 × 3</caption>\n",
       "<thead>\n",
       "\t<tr><th scope=col>.metric</th><th scope=col>.estimator</th><th scope=col>.estimate</th></tr>\n",
       "\t<tr><th scope=col>&lt;chr&gt;</th><th scope=col>&lt;chr&gt;</th><th scope=col>&lt;dbl&gt;</th></tr>\n",
       "</thead>\n",
       "<tbody>\n",
       "\t<tr><td>rmse</td><td>standard</td><td>7.111306e+06</td></tr>\n",
       "\t<tr><td>rsq </td><td>standard</td><td>5.844658e-01</td></tr>\n",
       "\t<tr><td>mae </td><td>standard</td><td>5.736730e+06</td></tr>\n",
       "</tbody>\n",
       "</table>\n"
      ],
      "text/latex": [
       "A tibble: 3 × 3\n",
       "\\begin{tabular}{lll}\n",
       " .metric & .estimator & .estimate\\\\\n",
       " <chr> & <chr> & <dbl>\\\\\n",
       "\\hline\n",
       "\t rmse & standard & 7.111306e+06\\\\\n",
       "\t rsq  & standard & 5.844658e-01\\\\\n",
       "\t mae  & standard & 5.736730e+06\\\\\n",
       "\\end{tabular}\n"
      ],
      "text/markdown": [
       "\n",
       "A tibble: 3 × 3\n",
       "\n",
       "| .metric &lt;chr&gt; | .estimator &lt;chr&gt; | .estimate &lt;dbl&gt; |\n",
       "|---|---|---|\n",
       "| rmse | standard | 7.111306e+06 |\n",
       "| rsq  | standard | 5.844658e-01 |\n",
       "| mae  | standard | 5.736730e+06 |\n",
       "\n"
      ],
      "text/plain": [
       "  .metric .estimator .estimate   \n",
       "1 rmse    standard   7.111306e+06\n",
       "2 rsq     standard   5.844658e-01\n",
       "3 mae     standard   5.736730e+06"
      ]
     },
     "metadata": {},
     "output_type": "display_data"
    }
   ],
   "source": [
    "nba_test_results <- nba_fit |> \n",
    "  predict(nba_testing) |> # make predictions on the test data set\n",
    "  bind_cols(nba_testing) |>\n",
    "  metrics(truth = Salary, estimate = .pred)\n",
    "nba_test_results"
   ]
  },
  {
   "cell_type": "code",
   "execution_count": null,
   "id": "effbaba1-93ea-4f24-8f28-f552aa07eaed",
   "metadata": {
    "tags": []
   },
   "outputs": [],
   "source": [
    "summarize(nba_filtered,\n",
    "          \"Number of observations\" = nrow(nba_filtered),\n",
    "          \"Rows with missing data\" = sum(is.na(nba_filtered)))\n",
    "\n",
    "results_salary <- nba_filtered |>\n",
    "    summarize(variable = \"Salary\", max = max(Salary),min = min(Salary),mean = formatC(mean(Salary),digits=8)) \n",
    "results_age <- nba_filtered |>\n",
    "    summarize(variable = \"Age\", max = max(Age),min = min(Age),mean = formatC(mean(`Age`),digits=4) )\n",
    "results_GP <- nba_filtered |>\n",
    "    summarize(variable = \"GP\", max = max(GP),min = min(GP),mean = formatC(mean(`GP`),digits=4)) \n",
    "results_mins <- nba_filtered |>\n",
    "    summarize(variable = \"Mins\", max = max(total_minutes),min = min(total_minutes),mean = formatC(mean(total_minutes),digits=4)) \n",
    "results_TSP <- nba_filtered |>\n",
    "    summarize(variable = \"TSP\", max = max(TSP),min = min(TSP),mean = formatC(mean(`TSP`),digits=4)) \n",
    "\n",
    "Summary_results <- rbind(results_salary,results_age,results_GP,results_mins,results_TSP)\n",
    "Summary_results"
   ]
  },
  {
   "cell_type": "code",
   "execution_count": null,
   "id": "ac1d8e94-f7fb-44e7-bd2c-3abd9528ae7b",
   "metadata": {
    "tags": []
   },
   "outputs": [],
   "source": [
    "nba_salary_hist<- ggplot(nba_filtered, aes(x=Salary))+\n",
    "                geom_histogram()+\n",
    "                labs(x=\"Salary\", title = \"Distribution of Salary\")+\n",
    "                geom_vline(xintercept = 10021090, linetype = \"dashed\", linewidth = 1)\n",
    "\n",
    "nba_salary_age_plot <- ggplot(nba_filtered, aes(x=Age, y=Salary))+\n",
    "                        geom_point()+\n",
    "                        labs(x=\"Age of players\",y=\"Salary in USD\",title=\"Plot for Age and Salary of NBA players\")\n",
    "    \n",
    " \n",
    "nba_salary_GP_plot <- ggplot(nba_filtered, aes(x=GP, y=Salary))+\n",
    "                        geom_point()+\n",
    "                        labs(x=\"Games played\",y=\"Salary in USD\",title=\"Plot for number of games played and Salary of NBA players\")\n",
    "\n",
    "nba_salary_TSP_plot <- ggplot(nba_filtered, aes(x=TSP, y=Salary))+\n",
    "                        geom_point()+\n",
    "                        labs(x=\"True Shooting Percent\",y=\"Salary in USD\",title=\"TS% vs Salary for NBA players\")\n",
    "\n",
    "nba_salary_hist\n",
    "nba_salary_age_plot\n",
    "nba_salary_GP_plot\n",
    "nba_salary_TSP_plot\n",
    "\n",
    "#Histogram to visualize the distrbution of salary for nba players in 2022/23 season\n",
    "#Added a vline at where the mean salary lies\n",
    "\n",
    "#Scatterplot is to show the correlation between age and salary "
   ]
  },
  {
   "cell_type": "markdown",
   "id": "6751500d-3104-4de5-a36f-4d3fb31bb554",
   "metadata": {},
   "source": [
    "**Methods:**\n",
    "In the 2022-2023 season dataset, the following variables will be selected: \n",
    "\n",
    "    -Age: Often indicates a player's experience and professional maturity \n",
    "\n",
    "    -Games Played: Evidences a player's reliability \n",
    "\n",
    "    -Total Minutes Played: Indicates a player's significance to the team \n",
    "\n",
    "    -True Shooting Percent: Measures a player's ability to score efficiently \n",
    "\n",
    "The selection of these variables rests on the hypothesis that they determine a player's worth and, consequently, their salary. Observations with missing data will be removed. \n",
    "\n",
    "Scatterplots will illustrate the relationship between each variable and the player's salary, aiding in the visualization of potential correlations. If any variable shows weak correlation, it will be replaced. The main modeling technique will be multiple regression, with cross-validation ensuring model robustness. Finally, this model will aid in estimating a retired player's current earnings based on their past performances. \n",
    "\n",
    " "
   ]
  },
  {
   "cell_type": "markdown",
   "id": "9d089175-e255-4636-8c98-b81b6016374f",
   "metadata": {},
   "source": [
    "**Expected Outcomes:**\n",
    "\n",
    "Our model aims to find the expected salary of a past NBA player if they were to play in 2023. We expect all four variables listed in our methods section to correlate positively with salary by assuming that higher skill equates to higher salary. The only non-skill variable is age, which we expect to positively correlate since older players are more experienced. However, we expect there to be a peak earning age, athleticism often decreases with age. \n",
    "\n",
    "Considering these variables, we expect that the past NBA player would be paid less in 2023 than the current NBA players. This is due to the general increase in skill across all competitive sports over time; the longer a sport is played, the better the skills it requires are understood.  \n",
    "\n",
    "**Impact:**\n",
    "The findings of this data model would be significant to the training of professional basketball players. Coaches are able to analyze changes in each variable to determine whether there has been positive improvement in the sport and can apply the relevant changes to their training methods.  \n",
    "\n",
    "**Future questions:**\n",
    "Does the team the player is on have an impact on their salary?  \n",
    "Do certain training methods yield higher salaries on average? \n",
    "How significant is the impact of player injuries on salary?"
   ]
  }
 ],
 "metadata": {
  "kernelspec": {
   "display_name": "R",
   "language": "R",
   "name": "ir"
  },
  "language_info": {
   "codemirror_mode": "r",
   "file_extension": ".r",
   "mimetype": "text/x-r-source",
   "name": "R",
   "pygments_lexer": "r",
   "version": "4.2.2"
  }
 },
 "nbformat": 4,
 "nbformat_minor": 5
}
