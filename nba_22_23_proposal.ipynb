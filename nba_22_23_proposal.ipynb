{
 "cells": [
  {
   "cell_type": "markdown",
   "id": "51b3fdb6-f329-4728-ab43-26781c3f4268",
   "metadata": {},
   "source": [
    "## Title: Predict NBA player earnings based on 2022-2023 season "
   ]
  },
  {
   "cell_type": "markdown",
   "id": "ded1ffe9-22f6-45f6-a90f-33bfff830b10",
   "metadata": {},
   "source": [
    "###  Predictive Question\n",
    "\n",
    "How does NBA players' statistics predict their salary? Specific focus on: age, games played, total minutes played, total shooting percentage?"
   ]
  },
  {
   "cell_type": "markdown",
   "id": "8c5185db-562e-4a57-addb-4c3b128ea226",
   "metadata": {},
   "source": [
    "### Introduction:\n",
    "The National Basketball Association (NBA) is a North American professional basketball league consisting of 2 conferences. Each conference has 3 divisions, and each division has 5 teams. The NBA is one of the major professional sports leagues in the United States and Canada. It is regarded as the highest level men's professional basketball tournament in the world. We are going to use a dataset from \"basketball-reference.com\", which provides precise statistics for all players. In this project, we are going to investigate the relationship between the players' salary and the following variables during the 2022-23 season: \n",
    "* Position\n",
    "* Age = age pf players\n",
    "* GP = number of games played\n",
    "* GS = number of games started \n",
    "* Total Minutes = total minutes played\n",
    "* PTS = points\n",
    "* eFG% = effective field goal percentage\n",
    "* TS% = true shooting percentage\n",
    "* WS = win shares\n",
    "* VORP = value over replacement player"
   ]
  },
  {
   "cell_type": "markdown",
   "id": "65024e19-2f60-4686-8217-12d948e26f86",
   "metadata": {},
   "source": [
    "### Preliminary exploratory data analysis:"
   ]
  },
  {
   "cell_type": "code",
   "execution_count": null,
   "id": "b6e2064c-7183-48d3-893a-15d2a5440f53",
   "metadata": {
    "tags": []
   },
   "outputs": [],
   "source": [
    "library(tidyverse)\n",
    "library(repr)\n",
    "library(tidymodels)\n",
    "install.packages(\"kknn\")\n",
    "install.packages(\"gridExtra\")\n",
    "library(kknn)\n",
    "library(gridExtra)\n",
    "options(repr.matrix.max.rows = 6)\n",
    "source(\"tests.R\")\n",
    "source('cleanup.R')"
   ]
  },
  {
   "cell_type": "markdown",
   "id": "6751500d-3104-4de5-a36f-4d3fb31bb554",
   "metadata": {},
   "source": [
    "### Methods:\n",
    "In the 2022-2023 season dataset, the following variables will be selected: \n",
    "\n",
    "    -Age: Often indicates a player's experience and professional maturity \n",
    "\n",
    "    -Games Played: Evidences a player's reliability \n",
    "\n",
    "    -Total Minutes Played: Indicates a player's significance to the team \n",
    "\n",
    "    -True Shooting Percent: Measures a player's ability to score efficiently \n",
    "\n",
    "The selection of these variables rests on the hypothesis that they determine a player's worth and, consequently, their salary. Observations with missing data will be removed. \n",
    "\n",
    "Scatterplots will illustrate the relationship between each variable and the player's salary, aiding in the visualization of potential correlations. If any variable shows weak correlation, it will be replaced. The main modeling technique will be multiple regression, with cross-validation ensuring model robustness. Finally, this model will aid in estimating a retired player's current earnings based on their past performances. \n",
    "\n",
    " "
   ]
  },
  {
   "cell_type": "markdown",
   "id": "b22889bf-7316-4459-aef7-a80d50ad9167",
   "metadata": {},
   "source": [
    "### Read the dataset using a relative path："
   ]
  },
  {
   "cell_type": "code",
   "execution_count": null,
   "id": "5276066f-03c8-4f3d-9387-333c9ae1886d",
   "metadata": {
    "tags": []
   },
   "outputs": [],
   "source": [
    "nba <- read_csv(\"nba_2022-23.csv\")\n",
    "nba"
   ]
  },
  {
   "cell_type": "markdown",
   "id": "6e64dc91-d142-4d86-b026-5433beaa01ac",
   "metadata": {},
   "source": [
    "### Wrangling data:\n",
    "Since the data has large number of variables, we selected variabels which might be useful for the analysis \n",
    "to simplify our data."
   ]
  },
  {
   "cell_type": "code",
   "execution_count": null,
   "id": "113d05f9-7301-438e-a2fd-726fdb88c828",
   "metadata": {
    "tags": []
   },
   "outputs": [],
   "source": [
    "nba_selected <- nba |>\n",
    "select(\"Player Name\", Salary, Position, Age, GP, GS, \"Total Minutes\", PTS, \"eFG%\", \"TS%\", WS, VORP) |>\n",
    "rename(total_minutes = \"Total Minutes\") |>\n",
    "rename(TSP = \"TS%\") |>\n",
    "rename(eFGP = \"eFG%\") \n",
    "nba_selected"
   ]
  },
  {
   "cell_type": "code",
   "execution_count": null,
   "id": "dd151414-1c5f-46d3-a20c-2a8a811a8bfa",
   "metadata": {
    "tags": []
   },
   "outputs": [],
   "source": [
    "nba_filtered <- nba_selected |>\n",
    "                   filter(abs(Salary - mean(Salary)) < 2 * sd(Salary)) |>\n",
    "                   select(Salary, Age, GP, TSP, total_minutes)|>\n",
    "                   drop_na()\n",
    "\n",
    "nba_filtered"
   ]
  },
  {
   "cell_type": "markdown",
   "id": "27a45cd6-eaa3-4bcb-9c5b-166c8f4543c1",
   "metadata": {},
   "source": [
    "### Summary of the dataset:"
   ]
  },
  {
   "cell_type": "code",
   "execution_count": null,
   "id": "effbaba1-93ea-4f24-8f28-f552aa07eaed",
   "metadata": {
    "tags": []
   },
   "outputs": [],
   "source": [
    "summarize(nba_filtered,\n",
    "          \"Number of observations\" = nrow(nba_filtered),\n",
    "          \"Rows with missing data\" = sum(is.na(nba_filtered)))\n",
    "\n",
    "results_salary <- nba_filtered |>\n",
    "    summarize(variable = \"Salary\", max = max(Salary),min = min(Salary),mean = formatC(mean(Salary),digits=8)) \n",
    "results_age <- nba_filtered |>\n",
    "    summarize(variable = \"Age\", max = max(Age),min = min(Age),mean = formatC(mean(`Age`),digits=4) )\n",
    "results_GP <- nba_filtered |>\n",
    "    summarize(variable = \"GP\", max = max(GP),min = min(GP),mean = formatC(mean(`GP`),digits=4)) \n",
    "results_mins <- nba_filtered |>\n",
    "    summarize(variable = \"Mins\", max = max(total_minutes),min = min(total_minutes),mean = formatC(mean(total_minutes),digits=4)) \n",
    "results_TSP <- nba_filtered |>\n",
    "    summarize(variable = \"TSP\", max = max(TSP),min = min(TSP),mean = formatC(mean(`TSP`),digits=4)) \n",
    "\n",
    "Summary_results <- rbind(results_salary,results_age,results_GP,results_mins,results_TSP) + \n",
    "Summary_results"
   ]
  },
  {
   "cell_type": "markdown",
   "id": "624db167-5b16-42c0-a590-2862fc381b7f",
   "metadata": {},
   "source": [
    "### Visualization of dataset:"
   ]
  },
  {
   "cell_type": "code",
   "execution_count": null,
   "id": "ac1d8e94-f7fb-44e7-bd2c-3abd9528ae7b",
   "metadata": {
    "tags": []
   },
   "outputs": [],
   "source": [
    "nba_salary_hist<- ggplot(nba_filtered, aes(x=Salary))+\n",
    "                geom_histogram()+\n",
    "                labs(x=\"Salary\", title = \"Distribution of Salary\", tabs=\"Figure 1: Salary Distribution\")+\n",
    "                geom_vline(xintercept = 10021090, linetype = \"dashed\", linewidth = 1)\n",
    "\n",
    "nba_salary_age_plot <- ggplot(nba_filtered, aes(x=Age, y=Salary))+\n",
    "                        geom_point()+\n",
    "                        labs(x=\"Age of players\",y=\"Salary in USD\",title=\"Plot for Age and Salary of NBA players\",tabs = \"Figure 2: Age vs. Salary\")\n",
    "    \n",
    " \n",
    "nba_salary_GP_plot <- ggplot(nba_filtered, aes(x=GP, y=Salary))+\n",
    "                        geom_point()+\n",
    "                        labs(x=\"Games played\",y=\"Salary in USD\",title=\"Plot for number of games played and Salary of NBA players\",tabs = \"Figure 3: Games Played vs. Salary\")\n",
    "\n",
    "nba_salary_TSP_plot <- ggplot(nba_filtered, aes(x=TSP, y=Salary))+\n",
    "                        geom_point()+\n",
    "                        labs(x=\"True Shooting Percent\",y=\"Salary in USD\",title=\"Plot for TS% and Salary for NBA players\",tabs = \"Figure 4: True Shooting % vs. Salary\")\n",
    "\n",
    "nba_salary_mins_plot <- ggplot(nba_filtered, aes(x=total_minutes, y=Salary))+\n",
    "                        geom_point()+\n",
    "                        labs(x=\"Total minutes\",y=\"Salary in USD\",title=\"Plot for total minutes played and Salary of NBA players\",tabs = \"Figure 5\n",
    ": Total Minutes Played vs. Salary\")\n",
    "\n",
    "nba_salary_hist\n",
    "nba_salary_age_plot\n",
    "nba_salary_GP_plot\n",
    "nba_salary_TSP_plot\n",
    "nba_salary_mins_plot\n",
    "\n",
    "#Histogram to visualize the distrbution of salary for nba players in 2022/23 season\n",
    "#Added a vline at where the mean salary lies\n",
    "\n",
    "#Scatterplot is to show the correlation between age and salary "
   ]
  },
  {
   "cell_type": "markdown",
   "id": "d398d542-58ae-47c7-8edc-449b0a02ba5b",
   "metadata": {
    "tags": []
   },
   "source": [
    "### Perform analysis:"
   ]
  },
  {
   "cell_type": "code",
   "execution_count": null,
   "id": "19eacaaf-7b17-47a2-a500-19c78d7f424b",
   "metadata": {
    "tags": []
   },
   "outputs": [],
   "source": [
    "set.seed(1)\n",
    "nba_split <- initial_split(nba_filtered, prop = 0.8, strata = Salary)\n",
    "nba_training <- training(nba_split) #training data\n",
    "nba_testing <- testing(nba_split) #testing data"
   ]
  },
  {
   "cell_type": "code",
   "execution_count": null,
   "id": "f655e2df-578c-4ef8-a195-5f95a2910810",
   "metadata": {
    "tags": []
   },
   "outputs": [],
   "source": [
    "nba_recipe <- recipe(Salary ~., data = nba_training) #create recipe to preprocess data\n",
    "\n",
    "nba_spec <- linear_reg()|> #model specification\n",
    "set_engine(\"lm\") |>\n",
    "set_mode(\"regression\")"
   ]
  },
  {
   "cell_type": "code",
   "execution_count": null,
   "id": "1a2b2746-913f-4794-be6f-2823ed4005d7",
   "metadata": {
    "tags": []
   },
   "outputs": [],
   "source": [
    "nba_fit <- workflow() |> #build the workflow and fit the model\n",
    "add_recipe(nba_recipe) |>\n",
    "add_model(nba_spec) |>\n",
    "fit(data = nba_training)\n",
    "nba_fit"
   ]
  },
  {
   "cell_type": "code",
   "execution_count": null,
   "id": "22ed6a60-d65e-49b6-9de8-a7dde8c611a6",
   "metadata": {
    "tags": []
   },
   "outputs": [],
   "source": [
    "nba_test_result <- nba_fit |> \n",
    "  predict(nba_testing) |>\n",
    "  bind_cols(nba_testing)\n",
    "nba_test_result"
   ]
  },
  {
   "cell_type": "code",
   "execution_count": null,
   "id": "16dd4f90-383e-4dde-b187-d9149f66774d",
   "metadata": {
    "tags": []
   },
   "outputs": [],
   "source": [
    "nba_test_results_plot <- ggplot(nba_test_result, aes(x=.pred,y=Salary)) +\n",
    "                               geom_point()+\n",
    "                                geom_abline(slope=1,intercept=0)\n",
    "\n",
    "nba_test_results_plot"
   ]
  },
  {
   "cell_type": "markdown",
   "id": "253b0c9e-78a0-4500-b877-50a851adb0ae",
   "metadata": {},
   "source": [
    "### Discussion\n",
    "\n",
    "$Predicted \\ Salary \\ (USD)= -10778118 + (528004 * Age) - (92459 * GP) - (379557 * TSP) + (7226 * Total \\ Minutes \\ Played)$\n"
   ]
  },
  {
   "cell_type": "markdown",
   "id": "9d089175-e255-4636-8c98-b81b6016374f",
   "metadata": {},
   "source": [
    " ### Impact:\n",
    "The findings of this data model would be significant to the training of professional basketball players. Coaches are able to analyze changes in each variable to determine whether there has been positive improvement in the sport and can apply the relevant changes to their training methods.  \n",
    "\n",
    "### Future questions:\n",
    "Does the team the player is on have an impact on their salary?  \n",
    "Do certain training methods yield higher salaries on average? \n",
    "How significant is the impact of player injuries on salary?"
   ]
  },
  {
   "cell_type": "code",
   "execution_count": null,
   "id": "5a581246-2b6f-4671-b259-87c57f9322b5",
   "metadata": {},
   "outputs": [],
   "source": []
  },
  {
   "cell_type": "code",
   "execution_count": null,
   "id": "43053777-bd3a-440e-ad90-9c277470562e",
   "metadata": {},
   "outputs": [],
   "source": []
  }
 ],
 "metadata": {
  "kernelspec": {
   "display_name": "R",
   "language": "R",
   "name": "ir"
  },
  "language_info": {
   "codemirror_mode": "r",
   "file_extension": ".r",
   "mimetype": "text/x-r-source",
   "name": "R",
   "pygments_lexer": "r",
   "version": "4.2.2"
  }
 },
 "nbformat": 4,
 "nbformat_minor": 5
}
